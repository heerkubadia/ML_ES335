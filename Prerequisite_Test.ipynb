{
  "nbformat": 4,
  "nbformat_minor": 0,
  "metadata": {
    "colab": {
      "provenance": [],
      "toc_visible": true
    },
    "kernelspec": {
      "name": "python3",
      "display_name": "Python 3"
    },
    "language_info": {
      "name": "python"
    }
  },
  "cells": [
    {
      "cell_type": "markdown",
      "source": [
        "# Question 1\n"
      ],
      "metadata": {
        "id": "4DloI73oa27-"
      }
    },
    {
      "cell_type": "markdown",
      "source": [
        "The number of multiplications required for matrix multiplication of (n, k) and (k, m) matrices is n * m * k, and the number of additions is n * m * (k-1).\n",
        "\n",
        "Explanation-\n",
        "\n",
        "Matrix multiplication involves multiplying each element of a row from the first matrix by the corresponding element of a column from the second matrix and then summing up these products to obtain the elements of the resulting matrix. If you have a matrix A of size (n, k) and a matrix B of size (k, m), the resulting matrix C will be of size (n, m).\n",
        "\n",
        "To calculate a single element (i, j) of the resulting matrix C, you need to perform k multiplications and k-1 additions. Each multiplication involves multiplying the corresponding elements from the ith row of matrix A and the jth column of matrix B. The final element in the resulting matrix C is obtained by summing up these k products.\n",
        "\n",
        "So, for a single element (i, j) in the resulting matrix C:\n",
        "\n",
        "Multiplications = k\n",
        "Additions = k-1\n",
        "\n",
        "Therefore, for the entire matrix C, you would perform a total of n * m * k multiplications and n * m * (k-1) additions as there are n*m elements in the resulting matrix.\n",
        "\n"
      ],
      "metadata": {
        "id": "TUstpQIBa7U2"
      }
    },
    {
      "cell_type": "markdown",
      "source": [
        "# Question 2\n"
      ],
      "metadata": {
        "id": "UDverxsmbEEW"
      }
    },
    {
      "cell_type": "code",
      "source": [
        "import numpy as np\n",
        "import time\n",
        "\n",
        "start = time.time()\n",
        "\n",
        "A = [[0,2],[2,3]]\n",
        "B = [[4,5],[6,7]]\n",
        "n = len(A)\n",
        "k = len(A[0])\n",
        "m = len(B[0])\n",
        "\n",
        "start = time.time()\n",
        "C = [[0 for _ in range(m)] for _ in range(n)]\n",
        "for i in range(n):\n",
        "  for j in range(m):\n",
        "    for h in range(k):\n",
        "      C[i][j] += A[i][h] * B[h][j]\n",
        "end = time.time()\n",
        "\n",
        "print(C)\n",
        "print('Time taken for matrix multiplication using list of lists is:',end-start)"
      ],
      "metadata": {
        "colab": {
          "base_uri": "https://localhost:8080/"
        },
        "id": "rDmBQiX2bI80",
        "outputId": "528f1b38-4c19-44c7-f659-8090b95aeb70"
      },
      "execution_count": 53,
      "outputs": [
        {
          "output_type": "stream",
          "name": "stdout",
          "text": [
            "[[12, 14], [26, 31]]\n",
            "Time taken for matrix multiplication using list of lists is: 0.0003368854522705078\n"
          ]
        }
      ]
    },
    {
      "cell_type": "code",
      "source": [
        "import numpy as np\n",
        "import time\n",
        "\n",
        "\n",
        "A = [[0,2],[2,3]]\n",
        "B = [[4,5],[6,7]]\n",
        "A = np.array(A)\n",
        "B = np.array(B)\n",
        "\n",
        "start = time.time()\n",
        "result = np.dot(A,B)\n",
        "end = time.time()\n",
        "\n",
        "print(result)\n",
        "print('Time taken for matrix multiplication using numpy is:',end-start)"
      ],
      "metadata": {
        "colab": {
          "base_uri": "https://localhost:8080/"
        },
        "id": "bBLHIN78bP4H",
        "outputId": "ff9c90f9-e354-4792-98c2-70d5f7c7b6c5"
      },
      "execution_count": 54,
      "outputs": [
        {
          "output_type": "stream",
          "name": "stdout",
          "text": [
            "[[12 14]\n",
            " [26 31]]\n",
            "Time taken for matrix multiplication using numpy is: 0.00019240379333496094\n"
          ]
        }
      ]
    },
    {
      "cell_type": "markdown",
      "source": [
        "NumPy is faster because it is implemented in C and optimized for numerical operations. The array operations in NumPy are highly efficient because the Numpy array is densely packed in memory due to its homogeneous type, it also frees the memory faster, and it takes advantage of low-level optimizations, making it faster than using Python lists for matrix operations."
      ],
      "metadata": {
        "id": "laqfZsI7cGqJ"
      }
    },
    {
      "cell_type": "markdown",
      "source": [
        "# Question 3"
      ],
      "metadata": {
        "id": "VpChXfFed9tc"
      }
    },
    {
      "cell_type": "markdown",
      "source": [
        "If finding the highest element in a list requires one pass, the second highest requires two passes, and so on, the time complexity for finding the median using this method would be O($n^2$), where n is the length of the array. This is because you would need to perform around n/2 passes to find the median and each pass has time complexity O($n$)."
      ],
      "metadata": {
        "id": "ZhHcl9MKeD_f"
      }
    },
    {
      "cell_type": "markdown",
      "source": [
        "A better method to find the median is to use a sorting algorithm with a time complexity of O($n log n$). Once the array is sorted, we can easily find the median using its index. For an array with an odd number of elements, the median is the middle element. For an array with an even number of elements, the median is the average of the two middle elements."
      ],
      "metadata": {
        "id": "FmM_RnxgeZ5m"
      }
    },
    {
      "cell_type": "code",
      "source": [
        "import numpy as np\n",
        "import time\n",
        "\n",
        "def linear(arr):\n",
        "    n = len(arr)\n",
        "    for i in range(n // 2):\n",
        "        maximum = max(arr)\n",
        "        arr.remove(maximum)\n",
        "\n",
        "    if n % 2 == 1:\n",
        "        return max(arr)\n",
        "    else:\n",
        "        return (max(arr) + maximum) / 2\n",
        "\n",
        "\n",
        "def sorting(arr):\n",
        "    sorted_arr = sorted(arr)\n",
        "    n = len(sorted_arr)\n",
        "    return sorted_arr[n // 2] if n % 2 == 1 else (sorted_arr[n // 2 - 1] + sorted_arr[n // 2]) / 2\n",
        "\n",
        "test = np.random.rand(10000).tolist()\n",
        "\n",
        "# Compare performance\n",
        "start_time = time.time()\n",
        "result_linear = linear(test.copy())\n",
        "end_time = time.time()\n",
        "\n",
        "print(f\"Linear approach result: {result_linear}\")\n",
        "print(f\"Linear approach time: {end_time - start_time} seconds\")\n",
        "\n",
        "start_time = time.time()\n",
        "result_sorting = sorting(test.copy())\n",
        "end_time = time.time()\n",
        "\n",
        "print(f\"\\nSorting approach result: {result_sorting}\")\n",
        "print(f\"Sorting approach time: {end_time - start_time} seconds\")\n",
        "\n",
        "start_time = time.time()\n",
        "result_numpy = np.median(test.copy())\n",
        "end_time = time.time()\n",
        "\n",
        "print(f\"\\nNumPy median result: {result_numpy}\")\n",
        "print(f\"NumPy median time: {end_time - start_time} seconds\")\n"
      ],
      "metadata": {
        "colab": {
          "base_uri": "https://localhost:8080/"
        },
        "id": "d9jYVsBhepjq",
        "outputId": "d517d97a-51db-4a50-8e24-0eaff1c95d3f"
      },
      "execution_count": 59,
      "outputs": [
        {
          "output_type": "stream",
          "name": "stdout",
          "text": [
            "Linear approach result: 0.5058291388074397\n",
            "Linear approach time: 1.0586233139038086 seconds\n",
            "\n",
            "Sorting approach result: 0.5058291388074397\n",
            "Sorting approach time: 0.0019516944885253906 seconds\n",
            "\n",
            "NumPy median result: 0.5058291388074397\n",
            "NumPy median time: 0.003662586212158203 seconds\n"
          ]
        }
      ]
    },
    {
      "cell_type": "markdown",
      "source": [
        "The sorting approach is faster for larger arrays due to its better time complexity. NumPy's median routine is also highly optimized and is expected to perform well too."
      ],
      "metadata": {
        "id": "3iHEazVKiAbI"
      }
    },
    {
      "cell_type": "markdown",
      "source": [
        "# Question 4\n"
      ],
      "metadata": {
        "id": "CCbOEK2OiNNw"
      }
    },
    {
      "cell_type": "markdown",
      "source": [
        "Gradient of the function found analytically:\n",
        "\n",
        "$f(x,y) = x^2y+y^3 \\sin{x}$\n",
        "\n",
        "$\\frac{\\partial }{\\partial x} f(x,y) = 2xy + y^3 \\cos{x}$\n",
        "\n",
        "$\\frac{\\partial }{\\partial y} f(x,y) = x^2+ 3y^2 \\sin{x}$"
      ],
      "metadata": {
        "id": "X2F3BTWFiXxS"
      }
    },
    {
      "cell_type": "markdown",
      "source": [
        "# Question 5\n"
      ],
      "metadata": {
        "id": "VyKAtQXOii5e"
      }
    },
    {
      "cell_type": "code",
      "source": [
        "from jax import grad\n",
        "import jax.numpy as jnp\n",
        "\n",
        "\n",
        "def f(x,y):\n",
        "  return x**2*y + y**3*jnp.sin(x)\n",
        "def analy_gradx(x,y):\n",
        "  return 2*x*y + y**3*np.cos(x)\n",
        "def analy_grady(x,y):\n",
        "  return x**2 + 3*y**2*np.sin(x)\n",
        "\n",
        "\n",
        "x1 = 3.0\n",
        "y1 = 4.0\n",
        "\n",
        "x2=7.5\n",
        "y2=8.67\n",
        "\n",
        "df_dx = grad(f,argnums=0)\n",
        "df_dy = grad(f,argnums=1)\n",
        "\n",
        "print(\"Value of gradient wrt x using JAX (x=3, y=4)\",round(float(df_dx(x1,y1)),3))\n",
        "print(\"Value of gradient wrt y using JAX(x=3, y=4)\",round(float(df_dy(x1,y1)),3))\n",
        "print()\n",
        "print(\"Value of gradient wrt x found analytically(x=3, y=4)\",round(analy_gradx(x1,y1),3))\n",
        "print(\"Value of gradient wrt y found analytically(x=3, y=4)\",round(analy_grady(x1,y1),3))\n",
        "print()\n",
        "print(\"Value of gradient wrt x using JAX (x=7.5, y=8.67)\",round(float(df_dx(x2,y2)),3))\n",
        "print(\"Value of gradient wrt y using JAX(x=7.5, y=8.67)\",round(float(df_dy(x2,y2)),3))\n",
        "print()\n",
        "print(\"Value of gradient wrt x found analytically(x=7.5, y=8.67)\",round(analy_gradx(x2,y2),3))\n",
        "print(\"Value of gradient wrt y found analytically(x=7.5, y=8.67)\",round(analy_grady(x2,y2),3))\n",
        "print()\n",
        "print(\"We see that the values obtained by analytical solution and JAX are the same\")\n"
      ],
      "metadata": {
        "colab": {
          "base_uri": "https://localhost:8080/"
        },
        "id": "IkwADRv5ioee",
        "outputId": "78282092-8042-4308-9120-509830caf1bb"
      },
      "execution_count": 26,
      "outputs": [
        {
          "output_type": "stream",
          "name": "stdout",
          "text": [
            "Value of gradient wrt x using JAX (x=3, y=4) -39.36\n",
            "Value of gradient wrt y using JAX(x=3, y=4) 15.774\n",
            "\n",
            "Value of gradient wrt x found analytically(x=3, y=4) -39.36\n",
            "Value of gradient wrt y found analytically(x=3, y=4) 15.774\n",
            "\n",
            "Value of gradient wrt x using JAX (x=7.5, y=8.67) 355.957\n",
            "Value of gradient wrt y using JAX(x=7.5, y=8.67) 267.775\n",
            "\n",
            "Value of gradient wrt x found analytically(x=7.5, y=8.67) 355.957\n",
            "Value of gradient wrt y found analytically(x=7.5, y=8.67) 267.775\n",
            "\n",
            "We see that the values obtained by analytical solution and JAX are the same\n"
          ]
        }
      ]
    },
    {
      "cell_type": "markdown",
      "source": [
        "# Question 6\n"
      ],
      "metadata": {
        "id": "9b1pcJ-XvlUR"
      }
    },
    {
      "cell_type": "code",
      "source": [
        "import sympy as sym\n",
        "\n",
        "x , y = sym.symbols('x y')\n",
        "f = x**2*y + y**3*sym.sin(x)\n",
        "\n",
        "df_dx = f.diff(x)\n",
        "df_dy = f.diff(y)\n",
        "\n",
        "print(\"Gradient wrt x:\",df_dx)\n",
        "print(\"Gradient wrt y:\",df_dy)\n",
        "\n",
        "print()\n",
        "print(\"We can see that the gradient found analytically is the same as the gradient found using JAX\")\n",
        "\n"
      ],
      "metadata": {
        "colab": {
          "base_uri": "https://localhost:8080/"
        },
        "id": "MiD0Kr35moOd",
        "outputId": "609369df-c8fc-454e-b247-180b17be6c17"
      },
      "execution_count": 27,
      "outputs": [
        {
          "output_type": "stream",
          "name": "stdout",
          "text": [
            "Gradient wrt x: 2*x*y + y**3*cos(x)\n",
            "Gradient wrt y: x**2 + 3*y**2*sin(x)\n",
            "\n",
            "We can see that the gradient found analytically is the same as the gradient found using JAX\n"
          ]
        }
      ]
    },
    {
      "cell_type": "markdown",
      "source": [
        "# Question 7\n"
      ],
      "metadata": {
        "id": "qF5dzu_-vrVC"
      }
    },
    {
      "cell_type": "code",
      "source": [
        "student_records = {\n",
        "    2022: {'Branch 1': [{'Roll Number': 1, 'Name': 'N', 'Marks': {'Maths': 100, 'English': 70}},],\n",
        "        'Branch 2': [],},\n",
        "    2023: {'Branch 1': [],'Branch 2': [],},\n",
        "    2024: {'Branch 1': [],'Branch 2': [],},\n",
        "    2025: {'Branch 1': [],'Branch 2': [],},}\n",
        "# we can add more data wherever we want"
      ],
      "metadata": {
        "id": "QGVITIwHvxjB"
      },
      "execution_count": null,
      "outputs": []
    },
    {
      "cell_type": "markdown",
      "source": [
        "# Question 8\n"
      ],
      "metadata": {
        "id": "M6GnMNQHxI7m"
      }
    },
    {
      "cell_type": "code",
      "source": [
        "class Student:\n",
        "    def __init__(self, roll_number, name, marks):\n",
        "        self.roll_number = roll_number\n",
        "        self.name = name\n",
        "        self.marks = marks\n",
        "\n",
        "class Branch:\n",
        "    def __init__(self, name):\n",
        "        self.name = name\n",
        "        self.students = []\n",
        "\n",
        "class Year:\n",
        "    def __init__(self, year):\n",
        "        self.year = year\n",
        "        self.branches = []\n",
        "\n",
        "student_records= []\n",
        "\n",
        "#year 2022\n",
        "student1 = Student(1, 'N', {'Maths': 100, 'English': 70})\n",
        "student2 = Student(2, 'M', {'Maths': 90, 'English': 80})\n",
        "\n",
        "branch1 = Branch('Branch 1')\n",
        "branch1.students.append(student1)\n",
        "branch1.students.append(student2)\n",
        "\n",
        "branch2 = Branch('Branch 2')\n",
        "\n",
        "year2022 = Year(2022)\n",
        "year2022.branches.append(branch1)\n",
        "year2022.branches.append(branch2)\n",
        "\n",
        "#year 2023\n",
        "branch3 = Branch('Branch 1')\n",
        "branch4 = Branch('Branch 2')\n",
        "\n",
        "year2023 = Year(2023)\n",
        "year2023.branches.append(branch3)\n",
        "year2023.branches.append(branch4)\n",
        "\n",
        "#year 2024\n",
        "branch5 = Branch('Branch 1')\n",
        "branch6 = Branch('Branch 2')\n",
        "\n",
        "year2024 = Year(2024)\n",
        "year2024.branches.append(branch5)\n",
        "year2024.branches.append(branch6)\n",
        "\n",
        "#year 2025\n",
        "branch7 = Branch('Branch 1')\n",
        "branch8 = Branch('Branch 2')\n",
        "\n",
        "year2025 = Year(2025)\n",
        "year2025.branches.append(branch7)\n",
        "year2025.branches.append(branch8)\n",
        "\n",
        "\n",
        "student_records.append(year2022)\n",
        "student_records.append(year2023)\n",
        "student_records.append(year2024)\n",
        "student_records.append(year2025)\n",
        "\n"
      ],
      "metadata": {
        "id": "DtYFzr0LxLoO"
      },
      "execution_count": 29,
      "outputs": []
    },
    {
      "cell_type": "markdown",
      "source": [
        "# Question 9\n"
      ],
      "metadata": {
        "id": "TrMHlUz10OcO"
      }
    },
    {
      "cell_type": "code",
      "source": [
        "import matplotlib.pyplot as plt\n",
        "import numpy as np\n",
        "\n",
        "x = np.arange(1, 201, 1, dtype=int) * 0.5\n",
        "\n",
        "plt.figure(figsize=(14, 7))\n",
        "\n",
        "plt.subplot(2, 4, 1)\n",
        "plt.plot(x, x)\n",
        "plt.title('$y=x$')\n",
        "\n",
        "plt.subplot(2, 4, 2)\n",
        "plt.plot(x, x**2)\n",
        "plt.title('$y=x^2$')\n",
        "\n",
        "plt.subplot(2, 4, 3)\n",
        "plt.plot(x, x**3 / 100)\n",
        "plt.title('$y=\\\\frac{x^3}{100}$')\n",
        "\n",
        "plt.subplot(2, 4, 4)\n",
        "plt.plot(x, np.sin(x))\n",
        "plt.title('$y=\\\\sin(x)$')\n",
        "\n",
        "plt.subplot(2, 4, 5)\n",
        "plt.plot(x, np.sin(x) / x)\n",
        "plt.title('$y=\\\\frac{\\\\sin(x)}{x}$')\n",
        "\n",
        "plt.subplot(2, 4, 6)\n",
        "plt.plot(x, np.log(x))\n",
        "plt.title('$y=\\\\log(x)$')\n",
        "\n",
        "plt.subplot(2, 4, 7)\n",
        "plt.plot(x, np.exp(x))\n",
        "plt.title('$y=e^x$')\n",
        "\n",
        "plt.show()\n"
      ],
      "metadata": {
        "colab": {
          "base_uri": "https://localhost:8080/",
          "height": 574
        },
        "id": "76KwuLWo0S4J",
        "outputId": "eb0254c2-1666-4ee8-b47d-61ef0b3898f1"
      },
      "execution_count": 35,
      "outputs": [
        {
          "output_type": "display_data",
          "data": {
            "text/plain": [
              "<Figure size 1400x700 with 7 Axes>"
            ],
            "image/png": "[encoded data removed]"
          },
          "metadata": {}
        }
      ]
    },
    {
      "cell_type": "markdown",
      "source": [
        "# Question 10\n"
      ],
      "metadata": {
        "id": "i5EAmL880OjR"
      }
    },
    {
      "cell_type": "code",
      "source": [
        "from numpy import random\n",
        "import pandas as pd\n",
        "\n",
        "x = random.uniform(low=1.0, high=2.0, size=(20,5))\n",
        "df = pd.DataFrame(x,columns=['a','b','c','d','e'])"
      ],
      "metadata": {
        "id": "pqG2Z0L41dj0"
      },
      "execution_count": 37,
      "outputs": []
    },
    {
      "cell_type": "code",
      "source": [
        "df\n"
      ],
      "metadata": {
        "colab": {
          "base_uri": "https://localhost:8080/",
          "height": 669
        },
        "id": "vuftqgXm1odQ",
        "outputId": "2edec0df-317b-4184-9c2d-e63b6440096e"
      },
      "execution_count": 38,
      "outputs": [
        {
          "output_type": "execute_result",
          "data": {
            "text/plain": [
              "           a         b         c         d         e\n",
              "0   1.714631  1.567486  1.630204  1.305754  1.068687\n",
              "1   1.954182  1.090282  1.886374  1.707012  1.159891\n",
              "2   1.903116  1.399164  1.978582  1.247634  1.722831\n",
              "3   1.215790  1.888553  1.779651  1.672270  1.830840\n",
              "4   1.078904  1.090698  1.068677  1.188072  1.400139\n",
              "5   1.026614  1.853275  1.877278  1.404347  1.580686\n",
              "6   1.852809  1.218404  1.077973  1.198934  1.956010\n",
              "7   1.067654  1.005160  1.112393  1.750124  1.107701\n",
              "8   1.284792  1.732238  1.112735  1.417781  1.782314\n",
              "9   1.373906  1.869687  1.524783  1.995121  1.898522\n",
              "10  1.860349  1.602870  1.466487  1.563429  1.770975\n",
              "11  1.732556  1.094241  1.038538  1.078280  1.757145\n",
              "12  1.154628  1.025605  1.926519  1.012595  1.835973\n",
              "13  1.532571  1.271922  1.441777  1.226829  1.492423\n",
              "14  1.462915  1.958216  1.766366  1.464605  1.826994\n",
              "15  1.637014  1.222707  1.632510  1.376769  1.150087\n",
              "16  1.514573  1.637358  1.300197  1.896439  1.771629\n",
              "17  1.319923  1.108983  1.994124  1.268664  1.053344\n",
              "18  1.935942  1.971693  1.297289  1.524980  1.569788\n",
              "19  1.350419  1.424903  1.991600  1.046833  1.636166"
            ],
            "text/html": [
              "\n",
              "  <div id=\"df-76534ea3-d107-4436-a001-6c7c5f689c6b\" class=\"colab-df-container\">\n",
              "    <div>\n",
              "<style scoped>\n",
              "    .dataframe tbody tr th:only-of-type {\n",
              "        vertical-align: middle;\n",
              "    }\n",
              "\n",
              "    .dataframe tbody tr th {\n",
              "        vertical-align: top;\n",
              "    }\n",
              "\n",
              "    .dataframe thead th {\n",
              "        text-align: right;\n",
              "    }\n",
              "</style>\n",
              "<table border=\"1\" class=\"dataframe\">\n",
              "  <thead>\n",
              "    <tr style=\"text-align: right;\">\n",
              "      <th></th>\n",
              "      <th>a</th>\n",
              "      <th>b</th>\n",
              "      <th>c</th>\n",
              "      <th>d</th>\n",
              "      <th>e</th>\n",
              "    </tr>\n",
              "  </thead>\n",
              "  <tbody>\n",
              "    <tr>\n",
              "      <th>0</th>\n",
              "      <td>1.714631</td>\n",
              "      <td>1.567486</td>\n",
              "      <td>1.630204</td>\n",
              "      <td>1.305754</td>\n",
              "      <td>1.068687</td>\n",
              "    </tr>\n",
              "    <tr>\n",
              "      <th>1</th>\n",
              "      <td>1.954182</td>\n",
              "      <td>1.090282</td>\n",
              "      <td>1.886374</td>\n",
              "      <td>1.707012</td>\n",
              "      <td>1.159891</td>\n",
              "    </tr>\n",
              "    <tr>\n",
              "      <th>2</th>\n",
              "      <td>1.903116</td>\n",
              "      <td>1.399164</td>\n",
              "      <td>1.978582</td>\n",
              "      <td>1.247634</td>\n",
              "      <td>1.722831</td>\n",
              "    </tr>\n",
              "    <tr>\n",
              "      <th>3</th>\n",
              "      <td>1.215790</td>\n",
              "      <td>1.888553</td>\n",
              "      <td>1.779651</td>\n",
              "      <td>1.672270</td>\n",
              "      <td>1.830840</td>\n",
              "    </tr>\n",
              "    <tr>\n",
              "      <th>4</th>\n",
              "      <td>1.078904</td>\n",
              "      <td>1.090698</td>\n",
              "      <td>1.068677</td>\n",
              "      <td>1.188072</td>\n",
              "      <td>1.400139</td>\n",
              "    </tr>\n",
              "    <tr>\n",
              "      <th>5</th>\n",
              "      <td>1.026614</td>\n",
              "      <td>1.853275</td>\n",
              "      <td>1.877278</td>\n",
              "      <td>1.404347</td>\n",
              "      <td>1.580686</td>\n",
              "    </tr>\n",
              "    <tr>\n",
              "      <th>6</th>\n",
              "      <td>1.852809</td>\n",
              "      <td>1.218404</td>\n",
              "      <td>1.077973</td>\n",
              "      <td>1.198934</td>\n",
              "      <td>1.956010</td>\n",
              "    </tr>\n",
              "    <tr>\n",
              "      <th>7</th>\n",
              "      <td>1.067654</td>\n",
              "      <td>1.005160</td>\n",
              "      <td>1.112393</td>\n",
              "      <td>1.750124</td>\n",
              "      <td>1.107701</td>\n",
              "    </tr>\n",
              "    <tr>\n",
              "      <th>8</th>\n",
              "      <td>1.284792</td>\n",
              "      <td>1.732238</td>\n",
              "      <td>1.112735</td>\n",
              "      <td>1.417781</td>\n",
              "      <td>1.782314</td>\n",
              "    </tr>\n",
              "    <tr>\n",
              "      <th>9</th>\n",
              "      <td>1.373906</td>\n",
              "      <td>1.869687</td>\n",
              "      <td>1.524783</td>\n",
              "      <td>1.995121</td>\n",
              "      <td>1.898522</td>\n",
              "    </tr>\n",
              "    <tr>\n",
              "      <th>10</th>\n",
              "      <td>1.860349</td>\n",
              "      <td>1.602870</td>\n",
              "      <td>1.466487</td>\n",
              "      <td>1.563429</td>\n",
              "      <td>1.770975</td>\n",
              "    </tr>\n",
              "    <tr>\n",
              "      <th>11</th>\n",
              "      <td>1.732556</td>\n",
              "      <td>1.094241</td>\n",
              "      <td>1.038538</td>\n",
              "      <td>1.078280</td>\n",
              "      <td>1.757145</td>\n",
              "    </tr>\n",
              "    <tr>\n",
              "      <th>12</th>\n",
              "      <td>1.154628</td>\n",
              "      <td>1.025605</td>\n",
              "      <td>1.926519</td>\n",
              "      <td>1.012595</td>\n",
              "      <td>1.835973</td>\n",
              "    </tr>\n",
              "    <tr>\n",
              "      <th>13</th>\n",
              "      <td>1.532571</td>\n",
              "      <td>1.271922</td>\n",
              "      <td>1.441777</td>\n",
              "      <td>1.226829</td>\n",
              "      <td>1.492423</td>\n",
              "    </tr>\n",
              "    <tr>\n",
              "      <th>14</th>\n",
              "      <td>1.462915</td>\n",
              "      <td>1.958216</td>\n",
              "      <td>1.766366</td>\n",
              "      <td>1.464605</td>\n",
              "      <td>1.826994</td>\n",
              "    </tr>\n",
              "    <tr>\n",
              "      <th>15</th>\n",
              "      <td>1.637014</td>\n",
              "      <td>1.222707</td>\n",
              "      <td>1.632510</td>\n",
              "      <td>1.376769</td>\n",
              "      <td>1.150087</td>\n",
              "    </tr>\n",
              "    <tr>\n",
              "      <th>16</th>\n",
              "      <td>1.514573</td>\n",
              "      <td>1.637358</td>\n",
              "      <td>1.300197</td>\n",
              "      <td>1.896439</td>\n",
              "      <td>1.771629</td>\n",
              "    </tr>\n",
              "    <tr>\n",
              "      <th>17</th>\n",
              "      <td>1.319923</td>\n",
              "      <td>1.108983</td>\n",
              "      <td>1.994124</td>\n",
              "      <td>1.268664</td>\n",
              "      <td>1.053344</td>\n",
              "    </tr>\n",
              "    <tr>\n",
              "      <th>18</th>\n",
              "      <td>1.935942</td>\n",
              "      <td>1.971693</td>\n",
              "      <td>1.297289</td>\n",
              "      <td>1.524980</td>\n",
              "      <td>1.569788</td>\n",
              "    </tr>\n",
              "    <tr>\n",
              "      <th>19</th>\n",
              "      <td>1.350419</td>\n",
              "      <td>1.424903</td>\n",
              "      <td>1.991600</td>\n",
              "      <td>1.046833</td>\n",
              "      <td>1.636166</td>\n",
              "    </tr>\n",
              "  </tbody>\n",
              "</table>\n",
              "</div>\n",
              "    <div class=\"colab-df-buttons\">\n",
              "\n",
              "  <div class=\"colab-df-container\">\n",
              "    <button class=\"colab-df-convert\" onclick=\"convertToInteractive('df-76534ea3-d107-4436-a001-6c7c5f689c6b')\"\n",
              "            title=\"Convert this dataframe to an interactive table.\"\n",
              "            style=\"display:none;\">\n",
              "\n",
              "  <svg xmlns=\"http://www.w3.org/2000/svg\" height=\"24px\" viewBox=\"0 -960 960 960\">\n",
              "    <path d=\"M120-120v-720h720v720H120Zm60-500h600v-160H180v160Zm220 220h160v-160H400v160Zm0 220h160v-160H400v160ZM180-400h160v-160H180v160Zm440 0h160v-160H620v160ZM180-180h160v-160H180v160Zm440 0h160v-160H620v160Z\"/>\n",
              "  </svg>\n",
              "    </button>\n",
              "\n",
              "  <style>\n",
              "    .colab-df-container {\n",
              "      display:flex;\n",
              "      gap: 12px;\n",
              "    }\n",
              "\n",
              "    .colab-df-convert {\n",
              "      background-color: #E8F0FE;\n",
              "      border: none;\n",
              "      border-radius: 50%;\n",
              "      cursor: pointer;\n",
              "      display: none;\n",
              "      fill: #1967D2;\n",
              "      height: 32px;\n",
              "      padding: 0 0 0 0;\n",
              "      width: 32px;\n",
              "    }\n",
              "\n",
              "    .colab-df-convert:hover {\n",
              "      background-color: #E2EBFA;\n",
              "      box-shadow: 0px 1px 2px rgba(60, 64, 67, 0.3), 0px 1px 3px 1px rgba(60, 64, 67, 0.15);\n",
              "      fill: #174EA6;\n",
              "    }\n",
              "\n",
              "    .colab-df-buttons div {\n",
              "      margin-bottom: 4px;\n",
              "    }\n",
              "\n",
              "    [theme=dark] .colab-df-convert {\n",
              "      background-color: #3B4455;\n",
              "      fill: #D2E3FC;\n",
              "    }\n",
              "\n",
              "    [theme=dark] .colab-df-convert:hover {\n",
              "      background-color: #434B5C;\n",
              "      box-shadow: 0px 1px 3px 1px rgba(0, 0, 0, 0.15);\n",
              "      filter: drop-shadow(0px 1px 2px rgba(0, 0, 0, 0.3));\n",
              "      fill: #FFFFFF;\n",
              "    }\n",
              "  </style>\n",
              "\n",
              "    <script>\n",
              "      const buttonEl =\n",
              "        document.querySelector('#df-76534ea3-d107-4436-a001-6c7c5f689c6b button.colab-df-convert');\n",
              "      buttonEl.style.display =\n",
              "        google.colab.kernel.accessAllowed ? 'block' : 'none';\n",
              "\n",
              "      async function convertToInteractive(key) {\n",
              "        const element = document.querySelector('#df-76534ea3-d107-4436-a001-6c7c5f689c6b');\n",
              "        const dataTable =\n",
              "          await google.colab.kernel.invokeFunction('convertToInteractive',\n",
              "                                                    [key], {});\n",
              "        if (!dataTable) return;\n",
              "\n",
              "        const docLinkHtml = 'Like what you see? Visit the ' +\n",
              "          '<a target=\"_blank\" href=https://colab.research.google.com/notebooks/data_table.ipynb>data table notebook</a>'\n",
              "          + ' to learn more about interactive tables.';\n",
              "        element.innerHTML = '';\n",
              "        dataTable['output_type'] = 'display_data';\n",
              "        await google.colab.output.renderOutput(dataTable, element);\n",
              "        const docLink = document.createElement('div');\n",
              "        docLink.innerHTML = docLinkHtml;\n",
              "        element.appendChild(docLink);\n",
              "      }\n",
              "    </script>\n",
              "  </div>\n",
              "\n",
              "\n",
              "<div id=\"df-eb92ac6b-d7c2-4dec-a737-fd5110fca356\">\n",
              "  <button class=\"colab-df-quickchart\" onclick=\"quickchart('df-eb92ac6b-d7c2-4dec-a737-fd5110fca356')\"\n",
              "            title=\"Suggest charts\"\n",
              "            style=\"display:none;\">\n",
              "\n",
              "<svg xmlns=\"http://www.w3.org/2000/svg\" height=\"24px\"viewBox=\"0 0 24 24\"\n",
              "     width=\"24px\">\n",
              "    <g>\n",
              "        <path d=\"M19 3H5c-1.1 0-2 .9-2 2v14c0 1.1.9 2 2 2h14c1.1 0 2-.9 2-2V5c0-1.1-.9-2-2-2zM9 17H7v-7h2v7zm4 0h-2V7h2v10zm4 0h-2v-4h2v4z\"/>\n",
              "    </g>\n",
              "</svg>\n",
              "  </button>\n",
              "\n",
              "<style>\n",
              "  .colab-df-quickchart {\n",
              "      --bg-color: #E8F0FE;\n",
              "      --fill-color: #1967D2;\n",
              "      --hover-bg-color: #E2EBFA;\n",
              "      --hover-fill-color: #174EA6;\n",
              "      --disabled-fill-color: #AAA;\n",
              "      --disabled-bg-color: #DDD;\n",
              "  }\n",
              "\n",
              "  [theme=dark] .colab-df-quickchart {\n",
              "      --bg-color: #3B4455;\n",
              "      --fill-color: #D2E3FC;\n",
              "      --hover-bg-color: #434B5C;\n",
              "      --hover-fill-color: #FFFFFF;\n",
              "      --disabled-bg-color: #3B4455;\n",
              "      --disabled-fill-color: #666;\n",
              "  }\n",
              "\n",
              "  .colab-df-quickchart {\n",
              "    background-color: var(--bg-color);\n",
              "    border: none;\n",
              "    border-radius: 50%;\n",
              "    cursor: pointer;\n",
              "    display: none;\n",
              "    fill: var(--fill-color);\n",
              "    height: 32px;\n",
              "    padding: 0;\n",
              "    width: 32px;\n",
              "  }\n",
              "\n",
              "  .colab-df-quickchart:hover {\n",
              "    background-color: var(--hover-bg-color);\n",
              "    box-shadow: 0 1px 2px rgba(60, 64, 67, 0.3), 0 1px 3px 1px rgba(60, 64, 67, 0.15);\n",
              "    fill: var(--button-hover-fill-color);\n",
              "  }\n",
              "\n",
              "  .colab-df-quickchart-complete:disabled,\n",
              "  .colab-df-quickchart-complete:disabled:hover {\n",
              "    background-color: var(--disabled-bg-color);\n",
              "    fill: var(--disabled-fill-color);\n",
              "    box-shadow: none;\n",
              "  }\n",
              "\n",
              "  .colab-df-spinner {\n",
              "    border: 2px solid var(--fill-color);\n",
              "    border-color: transparent;\n",
              "    border-bottom-color: var(--fill-color);\n",
              "    animation:\n",
              "      spin 1s steps(1) infinite;\n",
              "  }\n",
              "\n",
              "  @keyframes spin {\n",
              "    0% {\n",
              "      border-color: transparent;\n",
              "      border-bottom-color: var(--fill-color);\n",
              "      border-left-color: var(--fill-color);\n",
              "    }\n",
              "    20% {\n",
              "      border-color: transparent;\n",
              "      border-left-color: var(--fill-color);\n",
              "      border-top-color: var(--fill-color);\n",
              "    }\n",
              "    30% {\n",
              "      border-color: transparent;\n",
              "      border-left-color: var(--fill-color);\n",
              "      border-top-color: var(--fill-color);\n",
              "      border-right-color: var(--fill-color);\n",
              "    }\n",
              "    40% {\n",
              "      border-color: transparent;\n",
              "      border-right-color: var(--fill-color);\n",
              "      border-top-color: var(--fill-color);\n",
              "    }\n",
              "    60% {\n",
              "      border-color: transparent;\n",
              "      border-right-color: var(--fill-color);\n",
              "    }\n",
              "    80% {\n",
              "      border-color: transparent;\n",
              "      border-right-color: var(--fill-color);\n",
              "      border-bottom-color: var(--fill-color);\n",
              "    }\n",
              "    90% {\n",
              "      border-color: transparent;\n",
              "      border-bottom-color: var(--fill-color);\n",
              "    }\n",
              "  }\n",
              "</style>\n",
              "\n",
              "  <script>\n",
              "    async function quickchart(key) {\n",
              "      const quickchartButtonEl =\n",
              "        document.querySelector('#' + key + ' button');\n",
              "      quickchartButtonEl.disabled = true;  // To prevent multiple clicks.\n",
              "      quickchartButtonEl.classList.add('colab-df-spinner');\n",
              "      try {\n",
              "        const charts = await google.colab.kernel.invokeFunction(\n",
              "            'suggestCharts', [key], {});\n",
              "      } catch (error) {\n",
              "        console.error('Error during call to suggestCharts:', error);\n",
              "      }\n",
              "      quickchartButtonEl.classList.remove('colab-df-spinner');\n",
              "      quickchartButtonEl.classList.add('colab-df-quickchart-complete');\n",
              "    }\n",
              "    (() => {\n",
              "      let quickchartButtonEl =\n",
              "        document.querySelector('#df-eb92ac6b-d7c2-4dec-a737-fd5110fca356 button');\n",
              "      quickchartButtonEl.style.display =\n",
              "        google.colab.kernel.accessAllowed ? 'block' : 'none';\n",
              "    })();\n",
              "  </script>\n",
              "</div>\n",
              "    </div>\n",
              "  </div>\n"
            ]
          },
          "metadata": {},
          "execution_count": 38
        }
      ]
    },
    {
      "cell_type": "code",
      "source": [
        "print('column with highest standard deviation is', df.columns[np.argmax(df.std())])\n",
        "print()\n",
        "print('row with the lowest mean is', np.argmin(df.mean(axis=1)))"
      ],
      "metadata": {
        "colab": {
          "base_uri": "https://localhost:8080/"
        },
        "id": "ax7Jii5m1pi_",
        "outputId": "45a1306d-299f-4941-a37f-43d8c16d80af"
      },
      "execution_count": 39,
      "outputs": [
        {
          "output_type": "stream",
          "name": "stdout",
          "text": [
            "column with highest standard deviation is c\n",
            "\n",
            "row with the lowest mean is 4\n"
          ]
        }
      ]
    },
    {
      "cell_type": "markdown",
      "source": [
        "# Question 11"
      ],
      "metadata": {
        "id": "cH0N1Hk42FOw"
      }
    },
    {
      "cell_type": "code",
      "source": [
        "import numpy as np\n",
        "import pandas as pd\n",
        "\n",
        "df['f'] = df[['a', 'b', 'c', 'd', 'e']].sum(axis=1)\n",
        "df['g'] = np.where(df['f'] < 8, 'LT8', 'GT8')\n",
        "lt8_rows_count = df[df['g'] == 'LT8'].shape[0]\n",
        "std_lt8 = df.loc[df['g'] == 'LT8', 'f'].std()\n",
        "std_gt8 = df.loc[df['g'] == 'GT8', 'f'].std()\n",
        "\n",
        "print(\"DataFrame:\")\n",
        "print(df)\n",
        "print(\"\\nNumber of rows where the value in column 'g' is 'LT8':\", lt8_rows_count)\n",
        "print(\"Standard deviation of column 'f' for 'LT8' rows:\", std_lt8)\n",
        "print(\"Standard deviation of column 'f' for 'GT8' rows:\", std_gt8)\n"
      ],
      "metadata": {
        "colab": {
          "base_uri": "https://localhost:8080/"
        },
        "id": "jkpQ-psB2Ibh",
        "outputId": "4031da19-70bd-41e8-dd6f-3ad97792aef3"
      },
      "execution_count": 40,
      "outputs": [
        {
          "output_type": "stream",
          "name": "stdout",
          "text": [
            "DataFrame:\n",
            "           a         b         c         d         e         f    g\n",
            "0   1.714631  1.567486  1.630204  1.305754  1.068687  7.286763  LT8\n",
            "1   1.954182  1.090282  1.886374  1.707012  1.159891  7.797741  LT8\n",
            "2   1.903116  1.399164  1.978582  1.247634  1.722831  8.251328  GT8\n",
            "3   1.215790  1.888553  1.779651  1.672270  1.830840  8.387103  GT8\n",
            "4   1.078904  1.090698  1.068677  1.188072  1.400139  5.826490  LT8\n",
            "5   1.026614  1.853275  1.877278  1.404347  1.580686  7.742200  LT8\n",
            "6   1.852809  1.218404  1.077973  1.198934  1.956010  7.304130  LT8\n",
            "7   1.067654  1.005160  1.112393  1.750124  1.107701  6.043032  LT8\n",
            "8   1.284792  1.732238  1.112735  1.417781  1.782314  7.329858  LT8\n",
            "9   1.373906  1.869687  1.524783  1.995121  1.898522  8.662021  GT8\n",
            "10  1.860349  1.602870  1.466487  1.563429  1.770975  8.264110  GT8\n",
            "11  1.732556  1.094241  1.038538  1.078280  1.757145  6.700760  LT8\n",
            "12  1.154628  1.025605  1.926519  1.012595  1.835973  6.955319  LT8\n",
            "13  1.532571  1.271922  1.441777  1.226829  1.492423  6.965522  LT8\n",
            "14  1.462915  1.958216  1.766366  1.464605  1.826994  8.479097  GT8\n",
            "15  1.637014  1.222707  1.632510  1.376769  1.150087  7.019087  LT8\n",
            "16  1.514573  1.637358  1.300197  1.896439  1.771629  8.120197  GT8\n",
            "17  1.319923  1.108983  1.994124  1.268664  1.053344  6.745037  LT8\n",
            "18  1.935942  1.971693  1.297289  1.524980  1.569788  8.299691  GT8\n",
            "19  1.350419  1.424903  1.991600  1.046833  1.636166  7.449922  LT8\n",
            "\n",
            "Number of rows where the value in column 'g' is 'LT8': 13\n",
            "Standard deviation of column 'f' for 'LT8' rows: 0.5860966148059417\n",
            "Standard deviation of column 'f' for 'GT8' rows: 0.1769307910420661\n"
          ]
        }
      ]
    },
    {
      "cell_type": "markdown",
      "source": [
        "# Question 12\n"
      ],
      "metadata": {
        "id": "KZTDeIrX4i5x"
      }
    },
    {
      "cell_type": "markdown",
      "source": [
        "The term broadcasting describes how NumPy treats arrays with different shapes during arithmetic operations. Subject to certain constraints, the smaller array is “broadcast” across the larger array so that they have compatible shapes."
      ],
      "metadata": {
        "id": "cw95IpmS5Fpp"
      }
    },
    {
      "cell_type": "code",
      "source": [
        "import numpy as np\n",
        "\n",
        "matrix = np.array([[1, 1, 1],\n",
        "                   [1, 1, 1],\n",
        "                   [1, 1, 1]])\n",
        "\n",
        "row = np.array([0,1,2])\n",
        "\n",
        "result = matrix + row\n",
        "\n",
        "print(\"Original Matrix:\")\n",
        "print(matrix)\n",
        "print(\"\\nRow Vector:\")\n",
        "print(row)\n",
        "print(\"\\nResult after Broadcasting:\")\n",
        "print(result)\n"
      ],
      "metadata": {
        "colab": {
          "base_uri": "https://localhost:8080/"
        },
        "id": "Pp_TUGoK4mS4",
        "outputId": "b3e65732-7067-4cc5-a5aa-0d2e71efd285"
      },
      "execution_count": 41,
      "outputs": [
        {
          "output_type": "stream",
          "name": "stdout",
          "text": [
            "Original Matrix:\n",
            "[[1 1 1]\n",
            " [1 1 1]\n",
            " [1 1 1]]\n",
            "\n",
            "Row Vector:\n",
            "[0 1 2]\n",
            "\n",
            "Result after Broadcasting:\n",
            "[[1 2 3]\n",
            " [1 2 3]\n",
            " [1 2 3]]\n"
          ]
        }
      ]
    },
    {
      "cell_type": "markdown",
      "source": [
        "In this example, the row is broadcasted over each row of the matrix, and the addition is performed element-wise. The result is a new matrix where each element is the sum of the corresponding elements from the original matrix and the row vector."
      ],
      "metadata": {
        "id": "WG50BnyG5i6y"
      }
    },
    {
      "cell_type": "markdown",
      "source": [
        "# Question 13\n"
      ],
      "metadata": {
        "id": "xo5xpueH6HTW"
      }
    },
    {
      "cell_type": "code",
      "source": [
        "import numpy as np\n",
        "\n",
        "arr = np.random.rand(100)\n",
        "\n",
        "print(\"The index of the minimum element using np.argmin is\", np.argmin(arr))\n",
        "\n",
        "def argmin(array):\n",
        "  min_index = 0\n",
        "  for i in range(len(arr)):\n",
        "    if arr[i] < arr[min_index]:\n",
        "      min_index = i\n",
        "  return min_index\n",
        "\n",
        "print(\"The index of the minimum element using custom argmin is\", argmin(arr))"
      ],
      "metadata": {
        "colab": {
          "base_uri": "https://localhost:8080/"
        },
        "id": "htaET_o_6OPS",
        "outputId": "88d0adfe-8db3-4a22-d8c3-9b7384842648"
      },
      "execution_count": 52,
      "outputs": [
        {
          "output_type": "stream",
          "name": "stdout",
          "text": [
            "The index of the minimum element using np.argmin is 92\n",
            "The index of the minimum element using custom argmin is 92\n"
          ]
        }
      ]
    }
  ]
}